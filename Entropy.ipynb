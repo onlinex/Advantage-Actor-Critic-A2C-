{
 "cells": [
  {
   "cell_type": "code",
   "execution_count": 1,
   "metadata": {},
   "outputs": [],
   "source": [
    "import tensorflow as tf\n",
    "import numpy as np\n",
    "import matplotlib.pyplot as plt\n",
    "import gym"
   ]
  },
  {
   "cell_type": "code",
   "execution_count": 15,
   "metadata": {},
   "outputs": [],
   "source": [
    "class model(tf.keras.Model):\n",
    "    def __init__(self):\n",
    "        super(model, self).__init__(name=\"model\")\n",
    "        \n",
    "        tf.keras.backend.set_floatx('float32')\n",
    "        \n",
    "        self.state = tf.keras.layers.InputLayer(input_shape=(4,))\n",
    "        \n",
    "        self.hidden1 = tf.keras.layers.Dense(2048, activation='elu', \\\n",
    "                                            kernel_initializer='glorot_uniform')\n",
    "        \n",
    "        self.policy = tf.keras.layers.Dense(2, activation='softmax', \\\n",
    "                                            kernel_initializer='he_uniform')\n",
    "        \n",
    "        self.value = tf.keras.layers.Dense(1, activation='linear', \\\n",
    "                                            kernel_initializer='he_uniform')\n",
    "        \n",
    "        self.optimizer = tf.keras.optimizers.Adam()\n",
    "        self.huber_loss = tf.keras.losses.Huber(delta=5)\n",
    "        self.train_loss = tf.keras.metrics.Mean(name='train_loss')\n",
    "    \n",
    "    @tf.function\n",
    "    def call(self, x):\n",
    "        x = self.state(x)\n",
    "        x = self.hidden1(x)\n",
    "        p = self.policy(x)\n",
    "        v = self.value(x)\n",
    "        return p, tf.reshape(v, [-1])\n",
    "    \n",
    "    def action(self, state, training=True):\n",
    "        policy, value = self.call(state)\n",
    "        policy = policy.numpy()\n",
    "        # choose action stochastically\n",
    "        if training:\n",
    "            return np.array([np.random.choice(len(p), p=p) for p in policy])\n",
    "        else:\n",
    "            return np.array([np.argmax(p) for p in policy])\n",
    "        \n",
    "\n",
    "    def train_step(self, state, action, reward):\n",
    "        with tf.GradientTape() as tape:\n",
    "            policy, value = self.call(state)\n",
    "            \n",
    "            # action prob\n",
    "            indices = tf.range(0, tf.shape(policy)[0]) * tf.shape(policy)[1] + action\n",
    "            act_prob = tf.gather(tf.reshape(policy, [-1]), indices)\n",
    "            \n",
    "            # policy loss\n",
    "            advantage = reward - value\n",
    "            policy_loss = -tf.reduce_sum(tf.math.log(act_prob + 1e-10) * advantage)\n",
    "            \n",
    "            # value loss\n",
    "            value_loss = self.huber_loss(value, reward)\n",
    "            \n",
    "            # entropy\n",
    "            entropy = -tf.reduce_sum(act_prob * tf.math.log(act_prob + 1e-10))\n",
    "            \n",
    "            #\n",
    "            loss = policy_loss + 0.5 * value_loss + entropy\n",
    "            \n",
    "            \n",
    "        gradients = tape.gradient(loss, self.trainable_variables)\n",
    "        self.optimizer.apply_gradients(zip(gradients, self.trainable_variables))\n",
    "        \n",
    "        self.train_loss(loss)\n",
    "        return self.train_loss.result()"
   ]
  },
  {
   "cell_type": "code",
   "execution_count": 16,
   "metadata": {},
   "outputs": [],
   "source": [
    "tf.random.set_seed(0)\n",
    "np.random.seed(0)\n",
    "agent = model()"
   ]
  },
  {
   "cell_type": "code",
   "execution_count": 23,
   "metadata": {},
   "outputs": [],
   "source": [
    "env = gym.make(\"CartPole-v1\"); env.seed(0); print('', end='')"
   ]
  },
  {
   "cell_type": "code",
   "execution_count": 18,
   "metadata": {
    "scrolled": true
   },
   "outputs": [
    {
     "name": "stdout",
     "output_type": "stream",
     "text": [
      "running reward: 4.18 at episode 4\n",
      "running reward: 8.93 at episode 8\n",
      "running reward: 12.17 at episode 12\n",
      "running reward: 14.73 at episode 16\n",
      "running reward: 16.44 at episode 20\n",
      "running reward: 21.06 at episode 24\n",
      "running reward: 22.92 at episode 28\n",
      "running reward: 27.42 at episode 32\n",
      "running reward: 29.97 at episode 36\n",
      "running reward: 36.98 at episode 40\n",
      "running reward: 36.47 at episode 44\n",
      "running reward: 37.97 at episode 48\n",
      "running reward: 43.07 at episode 52\n",
      "running reward: 43.48 at episode 56\n",
      "running reward: 47.02 at episode 60\n",
      "running reward: 49.82 at episode 64\n",
      "running reward: 51.33 at episode 68\n",
      "running reward: 55.30 at episode 72\n",
      "running reward: 59.35 at episode 76\n",
      "running reward: 62.63 at episode 80\n",
      "running reward: 64.47 at episode 84\n",
      "running reward: 67.49 at episode 88\n",
      "running reward: 70.64 at episode 92\n",
      "running reward: 70.19 at episode 96\n",
      "running reward: 70.40 at episode 100\n",
      "running reward: 79.64 at episode 104\n",
      "running reward: 79.43 at episode 108\n",
      "running reward: 81.19 at episode 112\n",
      "running reward: 77.63 at episode 116\n",
      "running reward: 82.29 at episode 120\n",
      "running reward: 86.48 at episode 124\n",
      "running reward: 85.79 at episode 128\n",
      "running reward: 88.56 at episode 132\n",
      "running reward: 93.52 at episode 136\n",
      "running reward: 97.14 at episode 140\n",
      "running reward: 113.22 at episode 144\n",
      "running reward: 118.61 at episode 148\n",
      "running reward: 149.63 at episode 152\n",
      "running reward: 158.30 at episode 156\n",
      "running reward: 162.55 at episode 160\n",
      "running reward: 192.12 at episode 164\n",
      "running reward: 223.19 at episode 168\n",
      "running reward: 232.00 at episode 172\n",
      "running reward: 244.24 at episode 176\n",
      "running reward: 247.55 at episode 180\n",
      "running reward: 243.97 at episode 184\n",
      "running reward: 250.24 at episode 188\n",
      "running reward: 261.44 at episode 192\n",
      "running reward: 270.24 at episode 196\n",
      "running reward: 267.32 at episode 200\n",
      "running reward: 289.02 at episode 204\n",
      "running reward: 315.02 at episode 208\n",
      "running reward: 340.13 at episode 212\n",
      "running reward: 369.79 at episode 216\n",
      "running reward: 393.94 at episode 220\n",
      "running reward: 384.63 at episode 224\n",
      "running reward: 396.38 at episode 228\n",
      "running reward: 403.58 at episode 232\n",
      "running reward: 402.48 at episode 236\n",
      "running reward: 376.25 at episode 240\n",
      "running reward: 334.76 at episode 244\n",
      "running reward: 320.58 at episode 248\n",
      "running reward: 291.27 at episode 252\n",
      "running reward: 267.65 at episode 256\n",
      "running reward: 251.92 at episode 260\n",
      "running reward: 234.00 at episode 264\n",
      "running reward: 225.15 at episode 268\n",
      "running reward: 214.02 at episode 272\n",
      "running reward: 204.81 at episode 276\n",
      "running reward: 196.41 at episode 280\n",
      "running reward: 203.36 at episode 284\n",
      "running reward: 206.36 at episode 288\n",
      "running reward: 205.37 at episode 292\n",
      "running reward: 218.84 at episode 296\n",
      "running reward: 238.69 at episode 300\n",
      "running reward: 256.48 at episode 304\n",
      "running reward: 254.75 at episode 308\n",
      "running reward: 250.81 at episode 312\n",
      "running reward: 247.99 at episode 316\n",
      "running reward: 231.09 at episode 320\n",
      "running reward: 221.11 at episode 324\n",
      "running reward: 206.91 at episode 328\n",
      "running reward: 195.73 at episode 332\n",
      "running reward: 184.41 at episode 336\n",
      "running reward: 176.03 at episode 340\n",
      "running reward: 167.14 at episode 344\n",
      "running reward: 159.00 at episode 348\n",
      "running reward: 152.20 at episode 352\n",
      "running reward: 146.07 at episode 356\n",
      "running reward: 139.88 at episode 360\n",
      "running reward: 136.39 at episode 364\n",
      "running reward: 134.52 at episode 368\n",
      "running reward: 131.46 at episode 372\n",
      "running reward: 126.18 at episode 376\n",
      "running reward: 126.36 at episode 380\n",
      "running reward: 126.94 at episode 384\n",
      "running reward: 122.31 at episode 388\n",
      "running reward: 125.19 at episode 392\n",
      "running reward: 124.95 at episode 396\n",
      "running reward: 126.81 at episode 400\n",
      "running reward: 129.57 at episode 404\n",
      "running reward: 131.28 at episode 408\n",
      "running reward: 139.41 at episode 412\n",
      "running reward: 149.21 at episode 416\n",
      "running reward: 152.89 at episode 420\n",
      "running reward: 169.66 at episode 424\n",
      "running reward: 192.87 at episode 428\n",
      "running reward: 240.35 at episode 432\n",
      "running reward: 279.60 at episode 436\n",
      "running reward: 317.91 at episode 440\n",
      "running reward: 343.50 at episode 444\n",
      "running reward: 329.58 at episode 448\n",
      "running reward: 327.22 at episode 452\n",
      "running reward: 339.66 at episode 456\n",
      "running reward: 318.07 at episode 460\n",
      "running reward: 331.85 at episode 464\n",
      "running reward: 304.87 at episode 468\n",
      "running reward: 293.08 at episode 472\n",
      "running reward: 272.90 at episode 476\n",
      "running reward: 263.80 at episode 480\n",
      "running reward: 268.26 at episode 484\n",
      "running reward: 277.89 at episode 488\n",
      "running reward: 300.81 at episode 492\n",
      "running reward: 321.32 at episode 496\n",
      "running reward: 354.47 at episode 500\n",
      "running reward: 381.46 at episode 504\n",
      "running reward: 403.45 at episode 508\n",
      "running reward: 413.01 at episode 512\n",
      "running reward: 429.14 at episode 516\n",
      "running reward: 442.29 at episode 520\n",
      "running reward: 452.99 at episode 524\n",
      "running reward: 457.86 at episode 528\n",
      "running reward: 465.68 at episode 532\n",
      "running reward: 472.04 at episode 536\n",
      "running reward: 463.83 at episode 540\n",
      "running reward: 470.54 at episode 544\n",
      "running reward: 464.65 at episode 548\n",
      "running reward: 471.21 at episode 552\n",
      "running reward: 476.55 at episode 556\n",
      "Solved at episode 556!\n",
      "Wall time: 1min 27s\n"
     ]
    }
   ],
   "source": [
    "%%time\n",
    "rewards_history, loss_history, episode_count, running_reward = [], [], 0, 0\n",
    "\n",
    "batch_size = 4\n",
    "gamma = 0.98\n",
    "\n",
    "while True:\n",
    "    S, A, R = [], [], []\n",
    "    \n",
    "    for ep in range(batch_size):\n",
    "        s, a, r = [], [], []\n",
    "\n",
    "        state = env.reset()\n",
    "        episode_reward = 0\n",
    "        for t in range(1, 1000):\n",
    "\n",
    "            s.append(state)\n",
    "\n",
    "            state = tf.convert_to_tensor(state)\n",
    "            state = tf.expand_dims(state, 0)\n",
    "\n",
    "            action = agent.action(state)[0]\n",
    "            a.append(action)\n",
    "\n",
    "            # Apply the sampled action in our environment\n",
    "            state, reward, done, _ = env.step(action)\n",
    "            r.append(reward)\n",
    "\n",
    "            episode_reward += reward\n",
    "            if done:\n",
    "                break\n",
    "                \n",
    "        # Update running reward to check condition for solving\n",
    "        running_reward = 0.05 * episode_reward + (1 - 0.05) * running_reward\n",
    "        rewards_history.append(running_reward)\n",
    "                \n",
    "        \n",
    "        discounted_rewards, discounted_sum = [], 0\n",
    "        for t in r[::-1]:\n",
    "            discounted_sum = t + gamma * discounted_sum\n",
    "            discounted_rewards.insert(0, discounted_sum)\n",
    "            \n",
    "        S.extend(s)\n",
    "        A.extend(a)\n",
    "        R.extend(discounted_rewards)\n",
    "        \n",
    "        #log details\n",
    "        episode_count += 1\n",
    "        \n",
    "    S = tf.convert_to_tensor(S, dtype=np.float32)\n",
    "    A = tf.convert_to_tensor(A, dtype=np.int32)\n",
    "    R = tf.convert_to_tensor(R, dtype=np.float32)\n",
    "    \n",
    "    loss = agent.train_step(S, A, R).numpy()\n",
    "    loss_history.append(loss)\n",
    "    \n",
    "    if episode_count % 1 == 0:\n",
    "        template = \"running reward: {:.2f} at episode {}\"\n",
    "        print(template.format(running_reward, episode_count))\n",
    "    \n",
    "    if running_reward > 475:  # Condition to consider the task solved\n",
    "        print(\"Solved at episode {}!\".format(episode_count))\n",
    "        break"
   ]
  },
  {
   "cell_type": "code",
   "execution_count": 19,
   "metadata": {},
   "outputs": [
    {
     "data": {
      "text/plain": [
       "<matplotlib.legend.Legend at 0x1fcb9318c50>"
      ]
     },
     "execution_count": 19,
     "metadata": {},
     "output_type": "execute_result"
    },
    {
     "data": {
      "image/png": "[encoded data removed]",
      "text/plain": [
       "<Figure size 1152x360 with 1 Axes>"
      ]
     },
     "metadata": {
      "needs_background": "light"
     },
     "output_type": "display_data"
    }
   ],
   "source": [
    "plt.figure(figsize=(16,5))\n",
    "plt.plot(rewards_history, label=\"reward\")\n",
    "plt.legend()"
   ]
  },
  {
   "cell_type": "code",
   "execution_count": 20,
   "metadata": {},
   "outputs": [
    {
     "data": {
      "text/plain": [
       "[<matplotlib.lines.Line2D at 0x1fce9de9550>]"
      ]
     },
     "execution_count": 20,
     "metadata": {},
     "output_type": "execute_result"
    },
    {
     "data": {
      "image/png": "[encoded data removed]",
      "text/plain": [
       "<Figure size 1152x360 with 1 Axes>"
      ]
     },
     "metadata": {
      "needs_background": "light"
     },
     "output_type": "display_data"
    }
   ],
   "source": [
    "plt.figure(figsize=(16,5))\n",
    "plt.plot(loss_history)"
   ]
  },
  {
   "cell_type": "code",
   "execution_count": 245,
   "metadata": {},
   "outputs": [
    {
     "data": {
      "text/plain": [
       "(<tf.Tensor: shape=(1, 4), dtype=float32, numpy=\n",
       " array([[1.000000e+00, 6.347181e-38, 0.000000e+00, 0.000000e+00]],\n",
       "       dtype=float32)>,\n",
       " <tf.Tensor: shape=(1,), dtype=float32, numpy=array([-42.354836], dtype=float32)>)"
      ]
     },
     "execution_count": 245,
     "metadata": {},
     "output_type": "execute_result"
    }
   ],
   "source": [
    "state = env.reset()\n",
    "state = tf.convert_to_tensor(state)\n",
    "state = tf.expand_dims(state, 0)\n",
    "\n",
    "agent.call(state)"
   ]
  },
  {
   "cell_type": "code",
   "execution_count": 206,
   "metadata": {},
   "outputs": [],
   "source": [
    "state = env.reset()\n",
    "for i in range(1000):\n",
    "    env.render()\n",
    "    \n",
    "    state = tf.convert_to_tensor(state)\n",
    "    state = tf.expand_dims(state, 0)\n",
    "\n",
    "    action = agent.action(state)[0]\n",
    "    \n",
    "    state, reward, done, _ = env.step(action)\n",
    "    \n",
    "    if done:\n",
    "        break\n",
    "env.close()"
   ]
  },
  {
   "cell_type": "code",
   "execution_count": null,
   "metadata": {},
   "outputs": [],
   "source": []
  },
  {
   "cell_type": "code",
   "execution_count": null,
   "metadata": {},
   "outputs": [],
   "source": []
  }
 ],
 "metadata": {
  "kernelspec": {
   "display_name": "Python 3.6.5 64-bit ('base': conda)",
   "language": "python",
   "name": "python36564bitbaseconda4db4657131b6427e8cce7e3834bee618"
  },
  "language_info": {
   "codemirror_mode": {
    "name": "ipython",
    "version": 3
   },
   "file_extension": ".py",
   "mimetype": "text/x-python",
   "name": "python",
   "nbconvert_exporter": "python",
   "pygments_lexer": "ipython3",
   "version": "3.6.5"
  }
 },
 "nbformat": 4,
 "nbformat_minor": 2
}
